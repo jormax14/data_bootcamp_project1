{
 "cells": [
  {
   "cell_type": "code",
   "execution_count": null,
   "metadata": {},
   "outputs": [],
   "source": [
    "#----------------------------------------------\n",
    "#This Notebook merges the cleaned data from FEMA and Zillow\n",
    "#----------------------------------------------\n",
    "\n",
    "import pandas as pd\n",
    "import numpy as np\n",
    "import os as os\n",
    "import csv\n",
    "import string\n"
   ]
  },
  {
   "cell_type": "code",
   "execution_count": null,
   "metadata": {},
   "outputs": [],
   "source": [
    "#Read and store the cleaned FEMA Disaster data\n",
    "Clean_FEMA_csv = os.path.join(\"..\",\"Cleaned Data\",\"Clean FEMA 1996-Present Disasters Top 6 Types.csv\")\n",
    "Clean_Zillow_csv = os.path.join(\"..\",\"Cleaned Data\",\"Zillow_Cleaned_data.csv\")\n",
    "\n",
    "FEMA_df = pd.read_csv(Clean_FEMA_csv)\n",
    "Zillow_df = pd.read_csv(Clean_Zillow_csv)\n",
    "\n",
    "FEMA_df[\"CountyName\"].str.strip()\n",
    "Zillow_df[\"CountyName\"].str.strip()\n",
    "FEMA_df[\"State\"].str.strip()\n",
    "Zillow_df[\"State\"].str.strip()"
   ]
  },
  {
   "cell_type": "code",
   "execution_count": null,
   "metadata": {},
   "outputs": [],
   "source": [
    "print(\"Number of Disasters in Clean FEMA Data: \" )\n",
    "print(len(FEMA_df[\"Disaster Number\"].value_counts()))\n",
    "print(\" \")\n",
    "print(\"Counties Included in Each Disaster: \")\n",
    "print(FEMA_df[\"Title\"].value_counts())"
   ]
  },
  {
   "cell_type": "code",
   "execution_count": null,
   "metadata": {},
   "outputs": [],
   "source": [
    "#Perform a join where Zillow county/state housing data matches FEMA disaster declared county/state data\n",
    "ZillowFEMA_df = pd.merge(Zillow_df, FEMA_df, how=\"inner\", on=[\"CountyName\", \"State\"] )"
   ]
  },
  {
   "cell_type": "code",
   "execution_count": null,
   "metadata": {},
   "outputs": [],
   "source": [
    "print(\"Number of Disasters in Analysis: \" )\n",
    "print(len(ZillowFEMA_df[\"Disaster Number\"].value_counts()))\n",
    "print(\" \")\n",
    "print(\"Number of ZipCodes Included in Each Disaster: \")\n",
    "print(ZillowFEMA_df[\"Title\"].value_counts())"
   ]
  },
  {
   "cell_type": "code",
   "execution_count": null,
   "metadata": {},
   "outputs": [],
   "source": [
    "#Drop nas from the merged dataset\n",
    "ZillowFEMA_Clean_df = ZillowFEMA_df.dropna(axis = 0, how=\"any\")"
   ]
  },
  {
   "cell_type": "code",
   "execution_count": null,
   "metadata": {},
   "outputs": [],
   "source": [
    "ZillowFEMA_Clean_df.to_csv('..\\Cleaned Data\\Merged_Clean_Data.csv')"
   ]
  }
 ],
 "metadata": {
  "kernelspec": {
   "display_name": "Python 3",
   "language": "python",
   "name": "python3"
  },
  "language_info": {
   "codemirror_mode": {
    "name": "ipython",
    "version": 3
   },
   "file_extension": ".py",
   "mimetype": "text/x-python",
   "name": "python",
   "nbconvert_exporter": "python",
   "pygments_lexer": "ipython3",
   "version": "3.7.0"
  }
 },
 "nbformat": 4,
 "nbformat_minor": 2
}
