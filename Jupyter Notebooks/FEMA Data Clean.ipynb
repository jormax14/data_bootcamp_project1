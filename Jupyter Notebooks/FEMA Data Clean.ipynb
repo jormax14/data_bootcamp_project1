{
 "cells": [
  {
   "cell_type": "code",
   "execution_count": null,
   "metadata": {},
   "outputs": [],
   "source": [
    "#----------------------------------------------\n",
    "#This Notebook Cleans the data provided by FEMA\n",
    "#----------------------------------------------\n",
    "\n",
    "import pandas as pd\n",
    "import numpy as np\n",
    "import os as os\n",
    "import csv\n"
   ]
  },
  {
   "cell_type": "code",
   "execution_count": null,
   "metadata": {},
   "outputs": [],
   "source": [
    "#Read and store the FEMA Disaster data\n",
    "\n",
    "FEMA_csv = os.path.join(\"..\",\"Data\",\"Fema_Declaration_dates.csv\")\n",
    "\n",
    "FEMA_df = pd.read_csv(FEMA_csv)\n",
    "\n",
    "#Delete the columns that are not part of the original dataset\n",
    "del FEMA_df[\"Unnamed: 16\"]\n",
    "del FEMA_df[\"Unnamed: 17\"]\n",
    "del FEMA_df[\"Unnamed: 18\"]\n",
    "del FEMA_df[\"Unnamed: 19\"]\n",
    "del FEMA_df[\"Unnamed: 20\"]\n",
    "del FEMA_df[\"Unnamed: 21\"]\n",
    "del FEMA_df[\"Unnamed: 22\"]\n",
    "del FEMA_df[\"Unnamed: 23\"]\n",
    "\n",
    "#Deleting the FEMA disaster close out date as through investigation, descovered that 352 disasters do not have a closeout data assigned. This was causing 352 disasters to be dropped when dropna.\n",
    "del FEMA_df[\"disasterCloseOutDate\"]"
   ]
  },
  {
   "cell_type": "code",
   "execution_count": null,
   "metadata": {},
   "outputs": [],
   "source": [
    "FEMA_df.count()"
   ]
  },
  {
   "cell_type": "code",
   "execution_count": null,
   "metadata": {
    "scrolled": false
   },
   "outputs": [],
   "source": [
    "#Drop disaster rows where a county is not listed\n",
    "FEMA_Clean_df = FEMA_df.dropna(axis = 0, how=\"any\")"
   ]
  },
  {
   "cell_type": "code",
   "execution_count": null,
   "metadata": {},
   "outputs": [],
   "source": [
    "FEMA_Clean_df.count()"
   ]
  },
  {
   "cell_type": "code",
   "execution_count": null,
   "metadata": {},
   "outputs": [],
   "source": [
    "#Rename columns to be clean\n",
    "FEMA_Clean_df = FEMA_Clean_df.rename(columns={\n",
    "    \"disasterNumber\":\"Disaster Number\",\n",
    "    \"ihProgramDeclared\":\"Household Program Declared\",\n",
    "    \"iaProgramDeclared\":\"Individual Assistance Program Declared\",\n",
    "    \"paProgramDeclared\":\"Public Assistance Program Declared\",\n",
    "    \"hmProgramDeclared\":\"Hazard Mitigation Program Declared\",\n",
    "    \"state\":\"State\",\n",
    "    \"declarationDate\":\"Declaration Date\",\n",
    "    \"fyDeclared\":\"Fiscal Year Declared\",\n",
    "    \"disasterType\":\"Disaster Type\",\n",
    "    \"incidentType\":\"Incident Type\",\n",
    "    \"title\":\"Title\",\n",
    "    \"incidentBeginDate\":\"Incident Begin Date\",\n",
    "    \"incidentEndDate\":\"Incident End Date\",\n",
    "    \"disasterCloseOutDate\":\"Disaster Close Out Date\",\n",
    "    \"declaredCountyArea\":\"Declared County Area\",\n",
    "    \"placeCode\":\"Place Code\"\n",
    "})"
   ]
  },
  {
   "cell_type": "code",
   "execution_count": null,
   "metadata": {},
   "outputs": [],
   "source": [
    "#Check to see the unique incident types that we will then groupby MAY 1996\n",
    "FEMA_Clean_df[\"Incident Type\"].unique()"
   ]
  },
  {
   "cell_type": "code",
   "execution_count": null,
   "metadata": {},
   "outputs": [],
   "source": [
    "#Our Zillow dataset starts at May 1996, so we want our FEMA data frame to start with declarations from 1996 to present\n",
    "FEMA96_df = FEMA_Clean_df[FEMA_Clean_df[\"Incident Begin Date\"]>=\"1997-01\"]\n",
    "#Reset the index\n",
    "FEMA96_df.reset_index(drop=True, inplace=True)"
   ]
  },
  {
   "cell_type": "code",
   "execution_count": null,
   "metadata": {},
   "outputs": [],
   "source": [
    "#The values for the County Name field are not in the same format as the Zillow values - FEMA has \"(County)\"\n",
    "name = FEMA96_df[\"Declared County Area\"].str.split(pat=\"(\", n=1, expand=True)\n",
    "name = (name +\"County\")\n",
    "# print(name)\n",
    "FEMA96_df[\"CountyName\"] = name[0]"
   ]
  },
  {
   "cell_type": "code",
   "execution_count": null,
   "metadata": {
    "scrolled": true
   },
   "outputs": [],
   "source": [
    "#Check how many disasters were declared for each incident type\n",
    "FEMA96_df[\"Incident Type\"].value_counts() "
   ]
  },
  {
   "cell_type": "code",
   "execution_count": null,
   "metadata": {},
   "outputs": [],
   "source": [
    "#Keep the top 6 disaster types of which we have over a 1000 disasters of each\n",
    "FEMA96TopTypes_df = FEMA96_df[ (FEMA96_df[\"Incident Type\"]==\"Severe Storm(s)\") | (FEMA96_df[\"Incident Type\"]==\"Hurricane\") | (FEMA96_df[\"Incident Type\"]==\"Fire\") | (FEMA96_df[\"Incident Type\"]==\"Snow\") | (FEMA96_df[\"Incident Type\"]==\"Flood\") | (FEMA96_df[\"Incident Type\"]==\"Severe Ice Storm\")]\n",
    "#Check that the code worked properly\n",
    "FEMA96TopTypes_df[\"Incident Type\"].value_counts()"
   ]
  },
  {
   "cell_type": "code",
   "execution_count": null,
   "metadata": {},
   "outputs": [],
   "source": [
    "#Separate into a single dataframe for each incident type, if needed\n",
    "FEMA96_SevereStorm_df = FEMA96TopTypes_df[ FEMA96TopTypes_df[\"Incident Type\"]==\"Severe Storm(s)\" ] \n",
    "FEMA96_Hurricane_df = FEMA96TopTypes_df[ FEMA96TopTypes_df[\"Incident Type\"]==\"Hurricane\" ] \n",
    "FEMA96_Fire_df = FEMA96TopTypes_df[ FEMA96TopTypes_df[\"Incident Type\"]==\"Fire\" ] \n",
    "FEMA96_Snow_df = FEMA96TopTypes_df[ FEMA96TopTypes_df[\"Incident Type\"]==\"Snow\" ] \n",
    "FEMA96_Flood_df = FEMA96TopTypes_df[ FEMA96TopTypes_df[\"Incident Type\"]==\"Flood\" ] \n",
    "FEMA96_SevereIce_df = FEMA96TopTypes_df[ FEMA96TopTypes_df[\"Incident Type\"]==\"Severe Ice Storm\" ] "
   ]
  },
  {
   "cell_type": "code",
   "execution_count": null,
   "metadata": {},
   "outputs": [],
   "source": [
    "#Output the FEMA96TopTypes into a csv file\n",
    "FEMA96TopTypes_df.to_csv(\"..\\Cleaned Data\\Clean FEMA 1996-Present Disasters Top 6 Types.csv\", index = False, header = True) "
   ]
  }
 ],
 "metadata": {
  "kernelspec": {
   "display_name": "Python 3",
   "language": "python",
   "name": "python3"
  },
  "language_info": {
   "codemirror_mode": {
    "name": "ipython",
    "version": 3
   },
   "file_extension": ".py",
   "mimetype": "text/x-python",
   "name": "python",
   "nbconvert_exporter": "python",
   "pygments_lexer": "ipython3",
   "version": "3.7.0"
  }
 },
 "nbformat": 4,
 "nbformat_minor": 2
}
