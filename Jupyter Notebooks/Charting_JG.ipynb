{
 "cells": [
  {
   "cell_type": "code",
   "execution_count": 27,
   "metadata": {},
   "outputs": [
    {
     "data": {
      "text/html": [
       "<div>\n",
       "<style scoped>\n",
       "    .dataframe tbody tr th:only-of-type {\n",
       "        vertical-align: middle;\n",
       "    }\n",
       "\n",
       "    .dataframe tbody tr th {\n",
       "        vertical-align: top;\n",
       "    }\n",
       "\n",
       "    .dataframe thead th {\n",
       "        text-align: right;\n",
       "    }\n",
       "</style>\n",
       "<table border=\"1\" class=\"dataframe\">\n",
       "  <thead>\n",
       "    <tr style=\"text-align: right;\">\n",
       "      <th></th>\n",
       "      <th>Zip Code</th>\n",
       "      <th>title</th>\n",
       "      <th>disaster number</th>\n",
       "      <th>Declaration Date</th>\n",
       "      <th>County</th>\n",
       "      <th>t+1</th>\n",
       "      <th>t+2</th>\n",
       "      <th>t+3</th>\n",
       "      <th>t+4</th>\n",
       "      <th>t+5</th>\n",
       "      <th>t+6</th>\n",
       "      <th>t+1p</th>\n",
       "      <th>t+2p</th>\n",
       "      <th>t+3p</th>\n",
       "      <th>t+4p</th>\n",
       "      <th>t+5p</th>\n",
       "      <th>t+6p</th>\n",
       "    </tr>\n",
       "  </thead>\n",
       "  <tbody>\n",
       "    <tr>\n",
       "      <th>0</th>\n",
       "      <td>60657</td>\n",
       "      <td>SEVERE STORMS, STRAIGHT-LINE WINDS, AND FLOODING</td>\n",
       "      <td>4116</td>\n",
       "      <td>2013-05</td>\n",
       "      <td>Cook County</td>\n",
       "      <td>0.010904</td>\n",
       "      <td>0.015310</td>\n",
       "      <td>0.014051</td>\n",
       "      <td>0.011828</td>\n",
       "      <td>0.009352</td>\n",
       "      <td>0.004302</td>\n",
       "      <td>0.005598</td>\n",
       "      <td>0.005764</td>\n",
       "      <td>0.005422</td>\n",
       "      <td>0.004683</td>\n",
       "      <td>0.004148</td>\n",
       "      <td>0.004099</td>\n",
       "    </tr>\n",
       "    <tr>\n",
       "      <th>1</th>\n",
       "      <td>60614</td>\n",
       "      <td>SEVERE STORMS, STRAIGHT-LINE WINDS, AND FLOODING</td>\n",
       "      <td>4116</td>\n",
       "      <td>2013-05</td>\n",
       "      <td>Cook County</td>\n",
       "      <td>0.017091</td>\n",
       "      <td>0.023290</td>\n",
       "      <td>0.019591</td>\n",
       "      <td>0.015259</td>\n",
       "      <td>0.008906</td>\n",
       "      <td>0.003586</td>\n",
       "      <td>0.005598</td>\n",
       "      <td>0.005764</td>\n",
       "      <td>0.005422</td>\n",
       "      <td>0.004683</td>\n",
       "      <td>0.004148</td>\n",
       "      <td>0.004099</td>\n",
       "    </tr>\n",
       "    <tr>\n",
       "      <th>2</th>\n",
       "      <td>60640</td>\n",
       "      <td>SEVERE STORMS, STRAIGHT-LINE WINDS, AND FLOODING</td>\n",
       "      <td>4116</td>\n",
       "      <td>2013-05</td>\n",
       "      <td>Cook County</td>\n",
       "      <td>0.015821</td>\n",
       "      <td>0.016649</td>\n",
       "      <td>0.015320</td>\n",
       "      <td>0.013528</td>\n",
       "      <td>0.013347</td>\n",
       "      <td>0.006586</td>\n",
       "      <td>0.005598</td>\n",
       "      <td>0.005764</td>\n",
       "      <td>0.005422</td>\n",
       "      <td>0.004683</td>\n",
       "      <td>0.004148</td>\n",
       "      <td>0.004099</td>\n",
       "    </tr>\n",
       "    <tr>\n",
       "      <th>3</th>\n",
       "      <td>60647</td>\n",
       "      <td>SEVERE STORMS, STRAIGHT-LINE WINDS, AND FLOODING</td>\n",
       "      <td>4116</td>\n",
       "      <td>2013-05</td>\n",
       "      <td>Cook County</td>\n",
       "      <td>0.022958</td>\n",
       "      <td>0.021339</td>\n",
       "      <td>0.008646</td>\n",
       "      <td>0.003214</td>\n",
       "      <td>0.004628</td>\n",
       "      <td>0.004961</td>\n",
       "      <td>0.005598</td>\n",
       "      <td>0.005764</td>\n",
       "      <td>0.005422</td>\n",
       "      <td>0.004683</td>\n",
       "      <td>0.004148</td>\n",
       "      <td>0.004099</td>\n",
       "    </tr>\n",
       "    <tr>\n",
       "      <th>4</th>\n",
       "      <td>60618</td>\n",
       "      <td>SEVERE STORMS, STRAIGHT-LINE WINDS, AND FLOODING</td>\n",
       "      <td>4116</td>\n",
       "      <td>2013-05</td>\n",
       "      <td>Cook County</td>\n",
       "      <td>0.028159</td>\n",
       "      <td>0.020883</td>\n",
       "      <td>0.008048</td>\n",
       "      <td>0.004990</td>\n",
       "      <td>0.005627</td>\n",
       "      <td>0.003950</td>\n",
       "      <td>0.005598</td>\n",
       "      <td>0.005764</td>\n",
       "      <td>0.005422</td>\n",
       "      <td>0.004683</td>\n",
       "      <td>0.004148</td>\n",
       "      <td>0.004099</td>\n",
       "    </tr>\n",
       "  </tbody>\n",
       "</table>\n",
       "</div>"
      ],
      "text/plain": [
       "   Zip Code                                             title  \\\n",
       "0     60657  SEVERE STORMS, STRAIGHT-LINE WINDS, AND FLOODING   \n",
       "1     60614  SEVERE STORMS, STRAIGHT-LINE WINDS, AND FLOODING   \n",
       "2     60640  SEVERE STORMS, STRAIGHT-LINE WINDS, AND FLOODING   \n",
       "3     60647  SEVERE STORMS, STRAIGHT-LINE WINDS, AND FLOODING   \n",
       "4     60618  SEVERE STORMS, STRAIGHT-LINE WINDS, AND FLOODING   \n",
       "\n",
       "   disaster number Declaration Date       County       t+1       t+2  \\\n",
       "0             4116          2013-05  Cook County  0.010904  0.015310   \n",
       "1             4116          2013-05  Cook County  0.017091  0.023290   \n",
       "2             4116          2013-05  Cook County  0.015821  0.016649   \n",
       "3             4116          2013-05  Cook County  0.022958  0.021339   \n",
       "4             4116          2013-05  Cook County  0.028159  0.020883   \n",
       "\n",
       "        t+3       t+4       t+5       t+6      t+1p      t+2p      t+3p  \\\n",
       "0  0.014051  0.011828  0.009352  0.004302  0.005598  0.005764  0.005422   \n",
       "1  0.019591  0.015259  0.008906  0.003586  0.005598  0.005764  0.005422   \n",
       "2  0.015320  0.013528  0.013347  0.006586  0.005598  0.005764  0.005422   \n",
       "3  0.008646  0.003214  0.004628  0.004961  0.005598  0.005764  0.005422   \n",
       "4  0.008048  0.004990  0.005627  0.003950  0.005598  0.005764  0.005422   \n",
       "\n",
       "       t+4p      t+5p      t+6p  \n",
       "0  0.004683  0.004148  0.004099  \n",
       "1  0.004683  0.004148  0.004099  \n",
       "2  0.004683  0.004148  0.004099  \n",
       "3  0.004683  0.004148  0.004099  \n",
       "4  0.004683  0.004148  0.004099  "
      ]
     },
     "execution_count": 27,
     "metadata": {},
     "output_type": "execute_result"
    }
   ],
   "source": [
    "%matplotlib inline\n",
    "import pandas as pd\n",
    "import numpy as np\n",
    "import matplotlib.pyplot as plt\n",
    "import os as os\n",
    "import csv\n",
    "\n",
    "flood_csv = os.path.join('..','Cleaned Data','Flood_Data.csv')\n",
    "hurricane_csv = os.path.join('..','Cleaned Data','Hurricane_Data.csv')\n",
    "fire_csv = os.path.join('..','Cleaned Data','Fire_Data.csv')\n",
    "snow_csv = os.path.join('..','Cleaned Data','Snow_Data.csv')\n",
    "storms_csv = os.path.join('..','Cleaned Data','Storms_Data.csv')\n",
    "\n",
    "flood_df = pd.read_csv(flood_csv)\n",
    "hurricane_df = pd.read_csv(hurricane_csv)\n",
    "fire_df = pd.read_csv(fire_csv)\n",
    "storms_df = pd.read_csv(storms_csv)\n",
    "snow_df = pd.read_csv(snow_csv)\n",
    "\n",
    "flood_df.head()"
   ]
  },
  {
   "cell_type": "code",
   "execution_count": 31,
   "metadata": {},
   "outputs": [],
   "source": [
    "x_axis = [1,2,3,4,5,6]\n",
    "x_axis = np.array(x_axis)\n",
    "flood_data = np.array(flood_df.iloc[:,5:11])\n",
    "flood_data_p = np.array(flood_df.iloc[:,11:17])\n",
    "\n",
    "hurricane_data = np.array(hurricane_df.iloc[:,5:11])\n",
    "hurricane_data_p = np.array(hurricane_df.iloc[:,11:17])\n",
    "\n",
    "fire_data = np.array(fire_df.iloc[:,5:11])\n",
    "fire_data_p = np.array(fire_df.iloc[:,11:17])\n",
    "\n",
    "storms_data = np.array(storms_df.iloc[:,5:11])\n",
    "storms_data_p = np.array(storms_df.iloc[:,11:17])\n",
    "\n",
    "snow_data = np.array(snow_df.iloc[:,5:11])\n",
    "snow_data_p = np.array(snow_df.iloc[:,11:17])"
   ]
  },
  {
   "cell_type": "code",
   "execution_count": 32,
   "metadata": {},
   "outputs": [],
   "source": [
    "plt.style.use('fivethirtyeight')\n",
    "\n",
    "flood_pos = np.arange(flood_data.shape[1])-.2\n",
    "flood_p_pos = np.arange(flood_data_p.shape[1])+.2\n",
    "\n",
    "hurricane_pos = np.arange(hurricane_data.shape[1])-.2\n",
    "hurricane_p_pos = np.arange(hurricane_data_p.shape[1])+.2\n",
    "\n",
    "fire_pos = np.arange(fire_data.shape[1])-.2\n",
    "fire_p_pos = np.arange(fire_data_p.shape[1])+.2\n",
    "\n",
    "storms_pos = np.arange(storms_data.shape[1])-.2\n",
    "storms_p_pos = np.arange(storms_data_p.shape[1])+.2\n",
    "\n",
    "snow_pos = np.arange(snow_data.shape[1])-.2\n",
    "snow_p_pos = np.arange(snow_data_p.shape[1])+.2"
   ]
  },
  {
   "cell_type": "code",
   "execution_count": 26,
   "metadata": {},
   "outputs": [
    {
     "data": {
      "image/png": "[encoded data removed]",
      "text/plain": [
       "<Figure size 432x288 with 1 Axes>"
      ]
     },
     "metadata": {},
     "output_type": "display_data"
    }
   ],
   "source": [
    "fig, ax = plt.subplots()\n",
    "\n",
    "boxprops = dict(linestyle='--', facecolor='red')\n",
    "\n",
    "plt.boxplot(flood_data, positions = flood_pos, widths = .3, patch_artist = True, manage_xticks = False, showmeans = True, showfliers = False, boxprops=boxprops)\n",
    "plt.boxplot(flood_data_p, positions = flood_p_pos, widths = .3, patch_artist = True, manage_xticks = False, showmeans = True, showfliers = False)\n",
    "\n",
    "plt.show()"
   ]
  },
  {
   "cell_type": "code",
   "execution_count": 35,
   "metadata": {},
   "outputs": [
    {
     "data": {
      "image/png": "[encoded data removed]",
      "text/plain": [
       "<Figure size 432x288 with 1 Axes>"
      ]
     },
     "metadata": {},
     "output_type": "display_data"
    }
   ],
   "source": [
    "fig, ax = plt.subplots()\n",
    "\n",
    "boxprops = dict(linestyle='--', facecolor='red')\n",
    "\n",
    "plt.boxplot(hurricane_data, positions = hurricane_pos, widths = .3, patch_artist = True, manage_xticks = False, showmeans = True, showfliers = False, boxprops=boxprops)\n",
    "plt.boxplot(hurricane_data_p, positions = hurricane_p_pos, widths = .3, patch_artist = True, manage_xticks = False, showmeans = True, showfliers = False)\n",
    "\n",
    "plt.show()"
   ]
  },
  {
   "cell_type": "code",
   "execution_count": 36,
   "metadata": {},
   "outputs": [
    {
     "data": {
      "image/png": "[encoded data removed]",
      "text/plain": [
       "<Figure size 432x288 with 1 Axes>"
      ]
     },
     "metadata": {},
     "output_type": "display_data"
    }
   ],
   "source": [
    "fig, ax = plt.subplots()\n",
    "\n",
    "boxprops = dict(linestyle='--', facecolor='red')\n",
    "\n",
    "plt.boxplot(fire_data, positions = fire_pos, widths = .3, patch_artist = True, manage_xticks = False, showmeans = True, showfliers = False, boxprops=boxprops)\n",
    "plt.boxplot(fire_data_p, positions = fire_p_pos, widths = .3, patch_artist = True, manage_xticks = False, showmeans = True, showfliers = False)\n",
    "\n",
    "plt.show()"
   ]
  },
  {
   "cell_type": "code",
   "execution_count": 37,
   "metadata": {},
   "outputs": [
    {
     "data": {
      "image/png": "[encoded data removed]",
      "text/plain": [
       "<Figure size 432x288 with 1 Axes>"
      ]
     },
     "metadata": {},
     "output_type": "display_data"
    }
   ],
   "source": [
    "fig, ax = plt.subplots()\n",
    "\n",
    "boxprops = dict(linestyle='--', facecolor='red')\n",
    "\n",
    "plt.boxplot(snow_data, positions = snow_pos, widths = .3, patch_artist = True, manage_xticks = False, showmeans = True, showfliers = False, boxprops=boxprops)\n",
    "plt.boxplot(snow_data_p, positions = snow_p_pos, widths = .3, patch_artist = True, manage_xticks = False, showmeans = True, showfliers = False)\n",
    "\n",
    "plt.show()"
   ]
  },
  {
   "cell_type": "code",
   "execution_count": 38,
   "metadata": {},
   "outputs": [
    {
     "data": {
      "image/png": "[encoded data removed]",
      "text/plain": [
       "<Figure size 432x288 with 1 Axes>"
      ]
     },
     "metadata": {},
     "output_type": "display_data"
    }
   ],
   "source": [
    "fig, ax = plt.subplots()\n",
    "\n",
    "boxprops = dict(linestyle='--', facecolor='red')\n",
    "\n",
    "plt.boxplot(storms_data, positions = storms_pos, widths = .3, patch_artist = True, manage_xticks = False, showmeans = True, showfliers = False, boxprops=boxprops)\n",
    "plt.boxplot(storms_data_p, positions = storms_p_pos, widths = .3, patch_artist = True, manage_xticks = False, showmeans = True, showfliers = False)\n",
    "\n",
    "plt.show()"
   ]
  },
  {
   "cell_type": "code",
   "execution_count": null,
   "metadata": {},
   "outputs": [],
   "source": []
  }
 ],
 "metadata": {
  "kernelspec": {
   "display_name": "Python 3",
   "language": "python",
   "name": "python3"
  },
  "language_info": {
   "codemirror_mode": {
    "name": "ipython",
    "version": 3
   },
   "file_extension": ".py",
   "mimetype": "text/x-python",
   "name": "python",
   "nbconvert_exporter": "python",
   "pygments_lexer": "ipython3",
   "version": "3.7.0"
  }
 },
 "nbformat": 4,
 "nbformat_minor": 2
}
