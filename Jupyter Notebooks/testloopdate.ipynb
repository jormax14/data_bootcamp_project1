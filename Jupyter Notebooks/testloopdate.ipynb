{
 "cells": [
  {
   "cell_type": "code",
   "execution_count": null,
   "metadata": {},
   "outputs": [],
   "source": [
    "#----------------------------------------------\n",
    "#This Notebook merges the cleaned data from FEMA and Zillow\n",
    "#----------------------------------------------\n",
    "\n",
    "import pandas as pd\n",
    "import numpy as np\n",
    "import os as os\n",
    "import csv\n",
    "import time"
   ]
  },
  {
   "cell_type": "code",
   "execution_count": null,
   "metadata": {},
   "outputs": [],
   "source": [
    "#Read and store the cleaned FEMA Disaster data\n",
    "Clean_FEMA_csv = os.path.join(\"..\",\"Cleaned Data\",\"Clean FEMA 1996-Present Disasters Top 6 Types.csv\")\n",
    "Clean_Zillow_csv = os.path.join(\"..\",\"Cleaned Data\",\"Zillow_Cleaned_data.csv\")\n",
    "\n",
    "FEMA_df = pd.read_csv(Clean_FEMA_csv)\n",
    "Zillow_df = pd.read_csv(Clean_Zillow_csv)"
   ]
  },
  {
   "cell_type": "code",
   "execution_count": null,
   "metadata": {},
   "outputs": [],
   "source": [
    "Zillow_df.head()"
   ]
  },
  {
   "cell_type": "code",
   "execution_count": null,
   "metadata": {},
   "outputs": [],
   "source": [
    "Zillow_df.columns = Zillow_df.columns.str.replace('1996-05','test')\n",
    "\n",
    "Zillow_df.head()"
   ]
  },
  {
   "cell_type": "code",
   "execution_count": null,
   "metadata": {},
   "outputs": [],
   "source": [
    "for i, j in enumerate(Zillow_df.columns.values):\n",
    "        if time.strftime1996-6 in j:\n",
    "            Zillow_df.columns = Zillow_df.columns.str.replace('State','test')\n",
    "\n",
    "Zillow_df\n"
   ]
  },
  {
   "cell_type": "code",
   "execution_count": null,
   "metadata": {},
   "outputs": [],
   "source": []
  }
 ],
 "metadata": {
  "kernelspec": {
   "display_name": "Python 3",
   "language": "python",
   "name": "python3"
  },
  "language_info": {
   "codemirror_mode": {
    "name": "ipython",
    "version": 3
   },
   "file_extension": ".py",
   "mimetype": "text/x-python",
   "name": "python",
   "nbconvert_exporter": "python",
   "pygments_lexer": "ipython3",
   "version": "3.7.0"
  }
 },
 "nbformat": 4,
 "nbformat_minor": 2
}
