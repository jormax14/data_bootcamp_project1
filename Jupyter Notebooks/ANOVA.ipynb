{
 "cells": [
  {
   "cell_type": "code",
   "execution_count": null,
   "metadata": {},
   "outputs": [],
   "source": [
    "#----------------------------------------------\n",
    "#This Notebook runs ANOVA test on the types of disasters\n",
    "#----------------------------------------------\n",
    "import warnings\n",
    "warnings.filterwarnings('ignore')\n",
    "import pandas as pd\n",
    "import os as os\n",
    "import csv\n",
    "import scipy.stats as stats"
   ]
  },
  {
   "cell_type": "code",
   "execution_count": null,
   "metadata": {},
   "outputs": [],
   "source": [
    "#Read and store the normalized data from the normalizedate notebook\n",
    "normalized_clean_df = os.path.join('../Cleaned Data/Normalized_Clean_Data.csv')\n",
    "\n",
    "housing_after_disaster_df = pd.read_csv(normalized_clean_df)"
   ]
  },
  {
   "cell_type": "code",
   "execution_count": null,
   "metadata": {},
   "outputs": [],
   "source": [
    "# Extract individual groups which are in the treatment column; values in the mosq column\n",
    "hurricane2 = housing_after_disaster_df[housing_after_disaster_df[\"DisasterType\"] == \"Hurricane\"][\"t+2\"]\n",
    "hurricane3 = housing_after_disaster_df[housing_after_disaster_df[\"DisasterType\"] == \"Hurricane\"][\"t+3\"]\n",
    "hurricane4 = housing_after_disaster_df[housing_after_disaster_df[\"DisasterType\"] == \"Hurricane\"][\"t+4\"]\n",
    "fire4 = housing_after_disaster_df[housing_after_disaster_df[\"DisasterType\"] == \"Fire\"][\"t+4\"]\n",
    "fire5 = housing_after_disaster_df[housing_after_disaster_df[\"DisasterType\"] == \"Fire\"][\"t+5\"]\n",
    "fire6 = housing_after_disaster_df[housing_after_disaster_df[\"DisasterType\"] == \"Fire\"][\"t+6\"]"
   ]
  },
  {
   "cell_type": "code",
   "execution_count": null,
   "metadata": {},
   "outputs": [],
   "source": [
    "stats.f_oneway(hurricane2, hurricane3, hurricane4, fire4, fire5, fire6)"
   ]
  }
 ],
 "metadata": {
  "kernelspec": {
   "display_name": "Python 3",
   "language": "python",
   "name": "python3"
  },
  "language_info": {
   "codemirror_mode": {
    "name": "ipython",
    "version": 3
   },
   "file_extension": ".py",
   "mimetype": "text/x-python",
   "name": "python",
   "nbconvert_exporter": "python",
   "pygments_lexer": "ipython3",
   "version": "3.7.0"
  }
 },
 "nbformat": 4,
 "nbformat_minor": 2
}
