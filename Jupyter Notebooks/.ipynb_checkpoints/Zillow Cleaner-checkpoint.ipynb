{
 "cells": [
  {
   "cell_type": "code",
   "execution_count": null,
   "metadata": {},
   "outputs": [],
   "source": [
    "#----------------------------------------------\n",
    "#This Notebook Cleans the data provided by Zillow\n",
    "#----------------------------------------------\n",
    "\n",
    "import pandas as pd\n",
    "import numpy as np\n",
    "import os as os\n",
    "\n",
    "zillow_data = \"../Data/Zillow_AllHomes.csv\""
   ]
  },
  {
   "cell_type": "code",
   "execution_count": null,
   "metadata": {},
   "outputs": [],
   "source": [
    "#Reads the data file for Zillow\n",
    "zillow_df = pd.read_csv(zillow_data)\n",
    "\n",
    "#Removes NA data to prevent issues with merging and charting\n",
    "zillow_df = zillow_df.dropna(axis = 0)\n",
    "\n",
    "#Removes the undesired coloumns\n",
    "del zillow_df[\"RegionID\"]\n",
    "del zillow_df[\"City\"]\n",
    "del zillow_df[\"Metro\"]\n",
    "del zillow_df[\"SizeRank\"]"
   ]
  },
  {
   "cell_type": "code",
   "execution_count": null,
   "metadata": {},
   "outputs": [],
   "source": [
    "#This creates the index by zip code, county name and state\n",
    "zillow_df = zillow_df.set_index(['RegionName','CountyName','State'])"
   ]
  },
  {
   "cell_type": "code",
   "execution_count": null,
   "metadata": {},
   "outputs": [],
   "source": [
    "#Covertes the data to month over month change and drops the first column as it is NAN\n",
    "zillow_df_diff = zillow_df.groupby(level=0).pct_change(axis = 'columns')\n",
    "del zillow_df_diff[\"1996-04\"]"
   ]
  },
  {
   "cell_type": "code",
   "execution_count": null,
   "metadata": {},
   "outputs": [],
   "source": [
    "zillow_df_diff.to_csv(\"..\\Cleaned Data\\Zillow_Cleaned_data.csv\")"
   ]
  },
  {
   "cell_type": "code",
   "execution_count": null,
   "metadata": {},
   "outputs": [],
   "source": [
    "#calculate population mean on national level by month\n",
    "zillow_df_pop = zillow_df_diff.mean(axis = 'rows')\n",
    "\n",
    "zillow_df_pop = pd.DataFrame(zillow_df_pop)\n",
    "zillow_df_pop = zillow_df_pop.rename(columns = {\n",
    "    0 : \"Population Return\",\n",
    "})\n",
    "zillow_df_pop = zillow_df_pop.T\n",
    "\n",
    "zillow_df_pop.to_csv(\"..\\Cleaned Data\\Zillow_Population_Return.csv\")"
   ]
  }
 ],
 "metadata": {
  "kernelspec": {
   "display_name": "Python 3",
   "language": "python",
   "name": "python3"
  },
  "language_info": {
   "codemirror_mode": {
    "name": "ipython",
    "version": 3
   },
   "file_extension": ".py",
   "mimetype": "text/x-python",
   "name": "python",
   "nbconvert_exporter": "python",
   "pygments_lexer": "ipython3",
   "version": "3.7.0"
  }
 },
 "nbformat": 4,
 "nbformat_minor": 2
}
