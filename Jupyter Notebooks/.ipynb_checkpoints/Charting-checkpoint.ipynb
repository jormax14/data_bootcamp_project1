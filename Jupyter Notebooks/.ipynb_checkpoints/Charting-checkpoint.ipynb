{
 "cells": [
  {
   "cell_type": "code",
   "execution_count": 1,
   "metadata": {},
   "outputs": [],
   "source": [
    "%matplotlib notebook\n",
    "import pandas as pd\n",
    "import numpy as np\n",
    "import matplotlib.pyplot as plt\n",
    "\n",
    "#csvpath = pd.read_csv(\"..\\Cleaned Data\\INSERT NAME HERE\")\n",
    "#poppath = pd.read_csv(\"..\\Cleaded Data\\Zillow_\")"
   ]
  },
  {
   "cell_type": "code",
   "execution_count": null,
   "metadata": {},
   "outputs": [],
   "source": [
    "#Creates the Data Frame\n",
    "dataframe = dataframe.mean(axis = 'rows')\n",
    "\n",
    "dataframe = pd.DataFrame(dataframe)\n",
    "dataframe = dataframe.rename(columns = {\n",
    "    0 : \"INSERT DISASTER Return\",\n",
    "    1 : \"Control Return\"\n",
    "})\n",
    "dataframe \n",
    "\n",
    "INSERT DISASTER TYPE = [1]\n",
    "price_index = []\n",
    "control_index = []\n",
    "\n",
    "for i in range(1, len(df)):\n",
    "    price = df.loc[i-1, 'C'] * (1 + df.loc[i, 'C'])\n",
    "    control = df.loc[i-1, 'd'] * (1 + df.loc[i, 'd'])\n",
    "    price_index.append(price)\n",
    "    control_index.append(control)\n",
    "\n",
    "#Creates the Axsis\n",
    "x_axsis = np.arange([0,5,1])\n",
    "y_axsis = price_index\n",
    "control = control_index\n",
    "\n",
    "#Sets up the figure\n",
    "fig, ax1 = plt.subplots(111)\n",
    "\n",
    "ax1.plot(x_axsis, y_axsis, color=\"blue\")\n",
    "ax1.plot(x_axsis, control, color=\"grey\")"
   ]
  }
 ],
 "metadata": {
  "kernelspec": {
   "display_name": "Python 3",
   "language": "python",
   "name": "python3"
  },
  "language_info": {
   "codemirror_mode": {
    "name": "ipython",
    "version": 3
   },
   "file_extension": ".py",
   "mimetype": "text/x-python",
   "name": "python",
   "nbconvert_exporter": "python",
   "pygments_lexer": "ipython3",
   "version": "3.7.0"
  }
 },
 "nbformat": 4,
 "nbformat_minor": 2
}
