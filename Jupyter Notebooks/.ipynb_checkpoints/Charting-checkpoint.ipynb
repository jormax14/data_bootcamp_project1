{
 "cells": [
  {
   "cell_type": "code",
   "execution_count": null,
   "metadata": {},
   "outputs": [],
   "source": [
    "%matplotlib inline\n",
    "import pandas as pd\n",
    "import numpy as np\n",
    "import matplotlib.pyplot as plt\n",
    "import matplotlib.ticker as mtick\n",
    "from matplotlib.ticker import PercentFormatter\n",
    "import os as os\n",
    "import csv\n",
    "\n",
    "#This Pulls in all the relevant CSV file Paths\n",
    "median_csv = os.path.join('..','Cleaned Data','Median_Data.csv')\n",
    "flood_csv = os.path.join('..','Cleaned Data','Flood_Data.csv')\n",
    "hurricane_csv = os.path.join('..','Cleaned Data','Hurricane_Data.csv')\n",
    "fire_csv = os.path.join('..','Cleaned Data','Fire_Data.csv')\n",
    "snow_csv = os.path.join('..','Cleaned Data','Snow_Data.csv')\n",
    "storms_csv = os.path.join('..','Cleaned Data','Storms_Data.csv')\n",
    "ice_csv = os.path.join('..','Cleaned Data','Ice_Data.csv')\n",
    "\n",
    "#This reads all relevant CSVs\n",
    "median_df = pd.read_csv(median_csv)\n",
    "flood_df = pd.read_csv(flood_csv)\n",
    "hurricane_df = pd.read_csv(hurricane_csv)\n",
    "fire_df = pd.read_csv(fire_csv)\n",
    "storms_df = pd.read_csv(storms_csv)\n",
    "snow_df = pd.read_csv(snow_csv)\n",
    "ice_df = pd.read_csv(ice_csv)"
   ]
  },
  {
   "cell_type": "code",
   "execution_count": null,
   "metadata": {},
   "outputs": [],
   "source": [
    "#This deletes first column in median_df and inserts base row into median dataframe\n",
    "median_df = median_df.drop(median_df.columns[0], axis = 1)\n",
    "new_row = [0]*7 + [100000]*7\n",
    "median_df.loc[-1] = new_row\n",
    "median_df.index = median_df.index + 1\n",
    "median_df.sort_index(inplace = True)\n",
    "\n",
    "median_df.head()"
   ]
  },
  {
   "cell_type": "code",
   "execution_count": null,
   "metadata": {},
   "outputs": [],
   "source": [
    "#This puts the Median House Growth Data into an Array\n",
    "flood_growth = np.array(median_df.loc[:,'flood_cgrowth($)'])\n",
    "hurricane_growth = np.array(median_df.loc[:,'hurricane_cgrowth($)'])\n",
    "fire_growth = np.array(median_df.loc[:,'fire_cgrowth($)'])\n",
    "storms_growth = np.array(median_df.loc[:,'storms_cgrowth($)'])\n",
    "snow_growth = np.array(median_df.loc[:,'snow_cgrowth($)'])\n",
    "ice_growth = np.array(median_df.loc[:,'ice_cgrowth($)'])\n",
    "pop_growth = np.array(median_df.loc[:,'pop_cgrowth($)'])\n",
    "\n",
    "#This sets x-axis\n",
    "x_axis = np.arange(0, 7, 1)"
   ]
  },
  {
   "cell_type": "code",
   "execution_count": null,
   "metadata": {},
   "outputs": [],
   "source": [
    "#This creates a simple line graph comparing the median growth of housing prices against a normalized base\n",
    "\n",
    "plt.style.use('fivethirtyeight')\n",
    "\n",
    "line_w = 2\n",
    "\n",
    "fig, ax = plt.subplots(figsize = (6,4))\n",
    "flood_y, = ax.plot(x_axis, flood_growth, linewidth = line_w, color = 'powderblue', label = 'Flood')\n",
    "hurricane_y, = ax.plot(x_axis, hurricane_growth, linewidth = line_w, color = 'steelblue', label = 'Hurricane')\n",
    "fire_y, = ax.plot(x_axis, fire_growth, linewidth = line_w, color = 'tomato', label = 'Fire')\n",
    "storms_y, = ax.plot(x_axis, storms_growth, linewidth = line_w, color = 'midnightblue', label = \"Severe Storms\")\n",
    "snow_y, = ax.plot(x_axis, snow_growth, linewidth = line_w, color = 'orange', label = \"Snow\")\n",
    "ice_y, = ax.plot(x_axis, ice_growth, linewidth = line_w, color = 'cadetblue', label = \"Ice Storms\")\n",
    "pop_y, = ax.plot(x_axis, pop_growth, linewidth = 3, color = 'black', label = 'Population')\n",
    "\n",
    "ax.legend(fontsize = 'small', loc = 0)\n",
    "\n",
    "ax.tick_params(axis = 'both', which = 'major', labelsize = 12)\n",
    "ax.axhline(y = 100000, color = 'black', linewidth = 1.5, alpha = .7)\n",
    "ax.set_xlabel('months after disaster', fontsize = 14)\n",
    "ax.set_xlim(0, 6)\n",
    "ax.set_xmargin(1)\n",
    "\n",
    "ax.set_ylim(100000, 103250)\n",
    "\n",
    "fmt = '${x:,.0f}'\n",
    "tick = mtick.StrMethodFormatter(fmt)\n",
    "ax.yaxis.set_major_formatter(tick) \n",
    "\n",
    "fig.suptitle('Median Housing Appreciation After Disaster', fontsize = 14)\n",
    "ax.set_title('Note: based on starting value of $100k', fontsize = 10)\n",
    "ax.text(x = -1, y = 99250, s = 'Diana, Lee, & Jordan                                                   Source: FEMA, Zillow, FiveThirtyEight',\n",
    "            fontsize = 10, color = 'snow', backgroundcolor = 'grey')\n",
    "\n",
    "plt.show()"
   ]
  },
  {
   "cell_type": "code",
   "execution_count": null,
   "metadata": {},
   "outputs": [],
   "source": [
    "#This puts the Flood Data into an Array\n",
    "flood_data = np.array(flood_df.loc[:,'t+1':'t+6'])\n",
    "flood_data_p = np.array(flood_df.loc[:,'t+1p':'t+6p'])\n",
    "\n",
    "#This puts the Hurricane Data into an Array\n",
    "hurricane_data = np.array(hurricane_df.loc[:,'t+1':'t+6'])\n",
    "hurricane_data_p = np.array(hurricane_df.loc[:,'t+1p':'t+6p'])\n",
    "\n",
    "#This puts the Fire Data into an Array\n",
    "fire_data = np.array(fire_df.loc[:,'t+1':'t+6'])\n",
    "fire_data_p = np.array(fire_df.loc[:,'t+1p':'t+6p'])\n",
    "\n",
    "#This puts the Storms data into an Array\n",
    "storms_data = np.array(storms_df.loc[:,'t+1':'t+6'])\n",
    "storms_data_p = np.array(storms_df.loc[:,'t+1p':'t+6p'])\n",
    "\n",
    "#This puts the Snow Storm Data into an Array\n",
    "snow_data = np.array(snow_df.loc[:,'t+1':'t+6'])\n",
    "snow_data_p = np.array(snow_df.loc[:,'t+1p':'t+6p'])\n",
    "\n",
    "#This puts the Ice Storm Data into an Array\n",
    "ice_data = np.array(ice_df.loc[:,'t+1':'t+6'])\n",
    "ice_data_p = np.array(ice_df.loc[:,'t+1p':'t+6p'])"
   ]
  },
  {
   "cell_type": "code",
   "execution_count": null,
   "metadata": {},
   "outputs": [],
   "source": [
    "#Sets up the axis values for Floods for boxplot\n",
    "flood_pos = np.arange(flood_data.shape[1])-.175\n",
    "flood_p_pos = np.arange(flood_data_p.shape[1])+.175\n",
    "\n",
    "#Sets up the axis values for Hurricanes\n",
    "hurricane_pos = np.arange(hurricane_data.shape[1])-.175\n",
    "hurricane_p_pos = np.arange(hurricane_data_p.shape[1])+.175\n",
    "\n",
    "#Sets up the axis values for Fire\n",
    "fire_pos = np.arange(fire_data.shape[1])-.175\n",
    "fire_p_pos = np.arange(fire_data_p.shape[1])+.175\n",
    "\n",
    "#Sets up the axis values for Storms\n",
    "storms_pos = np.arange(storms_data.shape[1])-.175\n",
    "storms_p_pos = np.arange(storms_data_p.shape[1])+.175\n",
    "\n",
    "#Sets up the axis values for Snow Storms\n",
    "snow_pos = np.arange(snow_data.shape[1])-.175\n",
    "snow_p_pos = np.arange(snow_data_p.shape[1])+.175\n",
    "\n",
    "#Sets up the axis values for Snow Storms\n",
    "ice_pos = np.arange(ice_data.shape[1])-.175\n",
    "ice_p_pos = np.arange(ice_data_p.shape[1])+.175"
   ]
  },
  {
   "cell_type": "code",
   "execution_count": null,
   "metadata": {},
   "outputs": [],
   "source": [
    "#Sets up the formatting for the Charts\n",
    "\n",
    "plt.style.use('fivethirtyeight')\n",
    "\n",
    "whiskerprops = dict(linewidth = 2, color = 'lightslategray')\n",
    "capsprops = dict(linewidth = 2, color = 'lightslategray')\n",
    "medianprops = dict(linestyle = '--', linewidth = 2.25, color = 'firebrick')\n",
    "meanprops = dict(marker = 'D', markersize = 8, markerfacecolor = 'firebrick', markeredgecolor = 'firebrick')\n",
    "\n",
    "boxprops_p = dict(linewidth = 2, color = 'dimgrey', facecolor = 'lightgray')\n",
    "whiskerprops_p = dict(linewidth = 2, color ='dimgrey')\n",
    "capsprops_p = dict(linewidth = 2, color = \"dimgrey\")\n",
    "medianprops_p = dict(linestyle = '--', linewidth = 2.25, color = 'dimgrey')\n",
    "meanprops_p = dict(marker = 'D', markersize = 8, markerfacecolor = 'dimgrey', markeredgecolor = 'dimgrey')"
   ]
  },
  {
   "cell_type": "code",
   "execution_count": null,
   "metadata": {},
   "outputs": [],
   "source": [
    "#Create function to draw boxplots for each disaster type\n",
    "\n",
    "def draw_boxplot(data, data_p, d_pos, p_pos, box_color, y_bottom, y_upper, y_scale, title, note_y):\n",
    "    fig, ax = plt.subplots(figsize = (10,8))\n",
    "\n",
    "    boxprops = dict(linewidth = 2, color = 'lightslategray', facecolor = box_color)\n",
    "\n",
    "    bp_d = ax.boxplot(data, positions = d_pos + 1, widths = .3, patch_artist = True, manage_xticks = False, showmeans = True, showfliers = False, \n",
    "                      boxprops = boxprops, whiskerprops = whiskerprops, capprops = capsprops, medianprops = medianprops, meanprops = meanprops)\n",
    "    bp_p = ax.boxplot(data_p, positions = p_pos + 1, widths = .3, patch_artist = True, manage_xticks = False, showmeans = True, showfliers = False,\n",
    "                      boxprops = boxprops_p, whiskerprops = whiskerprops_p, capprops = capsprops_p, medianprops = medianprops_p, meanprops = meanprops_p)\n",
    "    ax.legend([bp_d['boxes'][0], bp_p['boxes'][0]], ['Disaster', 'Population'], fontsize = 'small', shadow = True, framealpha = .5, loc = 3, bbox_to_anchor = (-.1,-.075))\n",
    "    ax.tick_params(axis = 'both', which = 'major', labelsize = 12)\n",
    "    ax.axhline(y = 0, color = 'black', linewidth = 1.5, alpha = .7)\n",
    "    ax.set_xlabel('Months After Disaster', fontsize = 14)\n",
    "    ax.set_ylim(y_bottom, y_upper)\n",
    "    ax.set_ymargin(y_scale)\n",
    "    ax.yaxis.set_major_formatter(PercentFormatter(xmax = 1))\n",
    "\n",
    "    ax.set_title(title)\n",
    "    ax.text(x = -.205, y = note_y, s = 'Diana, Lee, & Jordan                                                                                                                                Source: FEMA, Zillow, FiveThirtyEight',\n",
    "            fontsize = 10, color = 'snow', backgroundcolor = 'grey')\n",
    "    plt.show()"
   ]
  },
  {
   "cell_type": "code",
   "execution_count": null,
   "metadata": {},
   "outputs": [],
   "source": [
    "draw_boxplot(flood_data, flood_data_p, flood_pos, flood_p_pos, 'powderblue', -.0175, .0225, .005, 'Change in Housing Prices Due to Floods', -.022)"
   ]
  },
  {
   "cell_type": "code",
   "execution_count": null,
   "metadata": {},
   "outputs": [],
   "source": [
    "draw_boxplot(hurricane_data, hurricane_data_p, hurricane_pos, hurricane_p_pos, 'steelblue', -.0175, .0275, .005, 'Change in Housing Prices Due to Hurricanes', -.022)"
   ]
  },
  {
   "cell_type": "code",
   "execution_count": null,
   "metadata": {},
   "outputs": [],
   "source": [
    "draw_boxplot(fire_data, fire_data_p, fire_pos, fire_p_pos, 'tomato', -.0275, .0375, .01, 'Change in Housing Prices Due to Fire', -.035)"
   ]
  },
  {
   "cell_type": "code",
   "execution_count": null,
   "metadata": {},
   "outputs": [],
   "source": [
    "draw_boxplot(snow_data, snow_data_p, snow_pos, snow_p_pos, 'snow', -.018, .024, .01, 'Change in Housing Prices Due to Snow', -.023)"
   ]
  },
  {
   "cell_type": "code",
   "execution_count": null,
   "metadata": {},
   "outputs": [],
   "source": [
    "draw_boxplot(storms_data, storms_data_p, storms_pos, storms_p_pos, 'midnightblue', -.018, .024, .01, 'Change in Housing Prices Due to Severe Storms', -.023)"
   ]
  },
  {
   "cell_type": "code",
   "execution_count": null,
   "metadata": {},
   "outputs": [],
   "source": [
    "draw_boxplot(ice_data, ice_data_p, ice_pos, ice_p_pos, 'cadetblue', -.0165, .0175, .01, 'Change in Housing Prices Due to Ice Storms', -.0205)"
   ]
  },
  {
   "cell_type": "code",
   "execution_count": null,
   "metadata": {},
   "outputs": [],
   "source": []
  }
 ],
 "metadata": {
  "kernelspec": {
   "display_name": "Python 3",
   "language": "python",
   "name": "python3"
  },
  "language_info": {
   "codemirror_mode": {
    "name": "ipython",
    "version": 3
   },
   "file_extension": ".py",
   "mimetype": "text/x-python",
   "name": "python",
   "nbconvert_exporter": "python",
   "pygments_lexer": "ipython3",
   "version": "3.7.0"
  }
 },
 "nbformat": 4,
 "nbformat_minor": 2
}
