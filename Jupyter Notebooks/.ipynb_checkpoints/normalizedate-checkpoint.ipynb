{
 "cells": [
  {
   "cell_type": "code",
   "execution_count": null,
   "metadata": {},
   "outputs": [],
   "source": [
    "#----------------------------------------------\n",
    "#This Notebook merges the cleaned data from FEMA and Zillow\n",
    "#----------------------------------------------\n",
    "%matplotlib notebook\n",
    "import pandas as pd\n",
    "import os as os\n",
    "import csv\n",
    "import matplotlib.pyplot as plt\n",
    "import scipy.stats as stats"
   ]
  },
  {
   "cell_type": "code",
   "execution_count": null,
   "metadata": {},
   "outputs": [],
   "source": [
    "#Read and store the merged clean data and population data\n",
    "event_data = os.path.join('..','Cleaned Data','Merged_Clean_Data.csv')\n",
    "pop_data = os.path.join('..','Cleaned Data','Zillow_Population_Return.csv')\n",
    "\n",
    "event_df = pd.read_csv(event_data)\n",
    "pop_df = pd.read_csv(pop_data)\n",
    "\n",
    "event_df = event_df.drop(event_df.columns[0], axis = 1)\n",
    "pop_df = pop_df.drop(pop_df.columns[0], axis = 1)"
   ]
  },
  {
   "cell_type": "code",
   "execution_count": null,
   "metadata": {},
   "outputs": [],
   "source": [
    "#create empty list for normalized event and population time series data\n",
    "n = 6\n",
    "event_lists = [[] for i in range(n)]\n",
    "pop_lists = [[] for j in range(n)]\n",
    "\n",
    "\n",
    "#create dictionary with data columns desired prior to adding normalized time series data\n",
    "normalized_dict = {'title' : event_df['Title'], 'disaster number' : event_df['Disaster Number'],\n",
    "                          'DisasterType' : event_df['Incident Type'], 'Declaration Date' : event_df['Declaration Date'],\n",
    "                          'Zip Code' : event_df['RegionName'], 'County' : event_df['CountyName']}\n",
    "\n",
    "#loop through empty event lists and then loop through event dataframe to populate empty event lists using declaration date to determine column index\n",
    "event_list_count = -1\n",
    "for x in event_lists:\n",
    "    event_list_count += 1\n",
    "    for index, row in event_df.iterrows():\n",
    "        ddate = row['Declaration Date']\n",
    "        try:\n",
    "            col_idx = event_df.columns.get_loc(ddate)\n",
    "            event_lists[event_list_count].append(row.iloc[col_idx + event_list_count + 1])\n",
    "        except:\n",
    "            event_lists[event_list_count].append(np.nan)\n",
    "\n",
    "#loop through empty population lists and then loop through population dataframe to populate empty event lists using declaration date from event dataframe to determine column index\n",
    "pop_list_count = -1\n",
    "for y in pop_lists:\n",
    "    pop_list_count += 1 \n",
    "    for index, row in event_df.iterrows():\n",
    "        ddate = row['Declaration Date']\n",
    "        try:\n",
    "            col_idx = pop_df.columns.get_loc(ddate)\n",
    "            pop_lists[pop_list_count].append(pop_df.iloc[0, col_idx + pop_list_count + 1])\n",
    "        except:\n",
    "            pop_lists[pop_list_count].append(np.nan)\n",
    "\n",
    "#loop through populated event lists and add key, value pairs to normalized_dict\n",
    "event_key_count = -1\n",
    "for a in event_lists:\n",
    "    event_key_count += 1\n",
    "    normalized_dict.update({f't+{event_key_count + 1}': event_lists[event_key_count]})\n",
    "\n",
    "#loop through populated population lists and add key, value pairs to normalized_dict\n",
    "pop_key_count = -1\n",
    "for b in pop_lists:\n",
    "    pop_key_count += 1\n",
    "    normalized_dict.update({f't+{pop_key_count + 1}p': pop_lists[pop_key_count]})\n",
    "\n",
    "#create data frame from normalized_dict\n",
    "normalized_df = pd.DataFrame(normalized_dict)\n",
    "\n",
    "#clean normalized_df of rows with NaN\n",
    "normalized_clean_df = normalized_df"
   ]
  },
  {
   "cell_type": "code",
   "execution_count": null,
   "metadata": {},
   "outputs": [],
   "source": [
    "normalized_clean_df['DisasterType'].value_counts()"
   ]
  },
  {
   "cell_type": "code",
   "execution_count": null,
   "metadata": {},
   "outputs": [],
   "source": [
    "normalized_clean_df = normalized_clean_df.set_index(['DisasterType', 'Zip Code'])"
   ]
  },
  {
   "cell_type": "code",
   "execution_count": null,
   "metadata": {},
   "outputs": [],
   "source": [
    "normalized_clean_df.to_csv('../Cleaned Data/Normalized_Clean_Data.csv')"
   ]
  },
  {
   "cell_type": "code",
   "execution_count": null,
   "metadata": {},
   "outputs": [],
   "source": [
    "hurricane_df = normalized_clean_df.loc['Flood', :]\n",
    "hurricane_df.drop_duplicates()\n",
    "#hurricane_df['t+1p'].apply(lambda x: x if isinstance(x, (int, float)) else None)\n",
    "#def removestring(x):\n",
    "#    if not x.isinstance(x, float): \n",
    "#        x=None \n",
    "#    return x\n",
    "\n",
    "#hurricane_df[\"t+1p\"].apply(lambda x : removestring(x))"
   ]
  },
  {
   "cell_type": "code",
   "execution_count": null,
   "metadata": {},
   "outputs": [],
   "source": [
    "#Removes data that improperly aggregated into this data frame. \n",
    "hurricane_df_returns = hurricane_df[[\"t+1\", 't+2', 't+3', 't+4', 't+5', 't+6', 't+1p', 't+2p', 't+3p', 't+4p', 't+5p', 't+6p']]\n",
    "hurricane_df_returns = hurricane_df_returns[hurricane_df_returns[\"t+1\"] < 1]\n",
    "hurricane_df_returns = hurricane_df_returns[hurricane_df_returns[\"t+2\"] < 1]\n",
    "hurricane_df_returns = hurricane_df_returns[hurricane_df_returns[\"t+3\"] < 1]\n",
    "hurricane_df_returns = hurricane_df_returns[hurricane_df_returns[\"t+4\"] < 1]\n",
    "hurricane_df_returns = hurricane_df_returns[hurricane_df_returns[\"t+5\"] < 1]\n",
    "hurricane_df_returns = hurricane_df_returns[hurricane_df_returns[\"t+6\"] < 1]\n",
    "hurricane_df_returns.count()"
   ]
  },
  {
   "cell_type": "code",
   "execution_count": null,
   "metadata": {},
   "outputs": [],
   "source": [
    "#Test for the first Month\n",
    "housing = hurricane_df_returns['t+1']\n",
    "pop = hurricane_df_returns['t+1p']\n",
    "\n",
    "pop\n",
    "\n",
    "stats.ttest_ind(housing, pop, equal_var=False)"
   ]
  },
  {
   "cell_type": "code",
   "execution_count": null,
   "metadata": {},
   "outputs": [],
   "source": [
    "#Test for the Second Month\n",
    "housing = hurricane_df_returns['t+2']\n",
    "pop = hurricane_df_returns['t+2p']\n",
    "pop\n",
    "stats.ttest_ind(housing, pop, equal_var=False)"
   ]
  },
  {
   "cell_type": "code",
   "execution_count": null,
   "metadata": {},
   "outputs": [],
   "source": [
    "#Test for the third Month\n",
    "housing = hurricane_df_returns['t+3']\n",
    "pop = hurricane_df_returns['t+3p']\n",
    "\n",
    "stats.ttest_ind(housing, pop, equal_var=False)"
   ]
  },
  {
   "cell_type": "code",
   "execution_count": null,
   "metadata": {},
   "outputs": [],
   "source": [
    "#Test for the fourth Month\n",
    "housing = hurricane_df_returns['t+4']\n",
    "pop = hurricane_df_returns['t+4p']\n",
    "\n",
    "stats.ttest_ind(housing, pop, equal_var=False)"
   ]
  },
  {
   "cell_type": "code",
   "execution_count": null,
   "metadata": {},
   "outputs": [],
   "source": [
    "#Test for the fifth Month\n",
    "housing = hurricane_df_returns['t+5']\n",
    "pop = hurricane_df_returns['t+5p']\n",
    "\n",
    "stats.ttest_ind(housing, pop, equal_var=False)"
   ]
  },
  {
   "cell_type": "code",
   "execution_count": null,
   "metadata": {},
   "outputs": [],
   "source": [
    "#Test for the sixth Month\n",
    "housing = hurricane_df_returns['t+6']\n",
    "pop = hurricane_df_returns['t+6p']\n",
    "\n",
    "stats.ttest_ind(housing, pop, equal_var=False)"
   ]
  },
  {
   "cell_type": "code",
   "execution_count": null,
   "metadata": {},
   "outputs": [],
   "source": [
    "#Creates the charting Data Frame\n",
    "hurricane_average_df = hurricane_df_returns.mean(axis = 'rows')\n",
    "hurricane_average_df = pd.DataFrame(hurricane_average_df).T\n",
    "hurricane_average_df"
   ]
  }
 ],
 "metadata": {
  "kernelspec": {
   "display_name": "Python 3",
   "language": "python",
   "name": "python3"
  },
  "language_info": {
   "codemirror_mode": {
    "name": "ipython",
    "version": 3
   },
   "file_extension": ".py",
   "mimetype": "text/x-python",
   "name": "python",
   "nbconvert_exporter": "python",
   "pygments_lexer": "ipython3",
   "version": "3.7.0"
  }
 },
 "nbformat": 4,
 "nbformat_minor": 2
}
