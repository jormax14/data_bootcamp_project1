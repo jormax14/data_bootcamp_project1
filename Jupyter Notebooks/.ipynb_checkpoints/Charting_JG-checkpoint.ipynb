{
 "cells": [
  {
   "cell_type": "code",
   "execution_count": null,
   "metadata": {},
   "outputs": [],
   "source": [
    "%matplotlib inline\n",
    "import pandas as pd\n",
    "import numpy as np\n",
    "import matplotlib.pyplot as plt\n",
    "import os as os\n",
    "import csv\n",
    "\n",
    "flood_csv = os.path.join('..','Cleaned Data','Flood_Data.csv')\n",
    "\n",
    "flood_df = pd.read_csv(flood_csv)\n",
    "flood_df.head()"
   ]
  },
  {
   "cell_type": "code",
   "execution_count": null,
   "metadata": {},
   "outputs": [],
   "source": [
    "x_axis = [1,2,3,4,5,6]\n",
    "x_axis = np.array(x_axis)\n",
    "flood_data = np.array(flood_df.iloc[:,5:11])\n",
    "flood_data_p = np.array(flood_df.iloc[:,11:17])"
   ]
  },
  {
   "cell_type": "code",
   "execution_count": null,
   "metadata": {},
   "outputs": [],
   "source": [
    "plt.style.use('fivethirtyeight')\n",
    "\n",
    "flood_pos = np.arange(flood_data.shape[1])-.2\n",
    "flood_p_pos = np.arange(flood_data_p.shape[1])+.2"
   ]
  },
  {
   "cell_type": "code",
   "execution_count": null,
   "metadata": {},
   "outputs": [],
   "source": [
    "fig, ax = plt.subplots()\n",
    "plt.boxplot(flood_data, positions = flood_pos, widths = .3, patch_artist = True, manage_xticks = False, showmeans = True, showfliers = False)\n",
    "\n",
    "plt.boxplot(flood_data_p, positions = flood_p_pos, widths = .3, patch_artist = True, manage_xticks = False, showmeans = True, showfliers = False)\n",
    "\n",
    "plt.xticks(flood_data.shape[1])\n",
    "\n",
    "plt.show()"
   ]
  }
 ],
 "metadata": {
  "kernelspec": {
   "display_name": "Python 3",
   "language": "python",
   "name": "python3"
  },
  "language_info": {
   "codemirror_mode": {
    "name": "ipython",
    "version": 3
   },
   "file_extension": ".py",
   "mimetype": "text/x-python",
   "name": "python",
   "nbconvert_exporter": "python",
   "pygments_lexer": "ipython3",
   "version": "3.7.0"
  }
 },
 "nbformat": 4,
 "nbformat_minor": 2
}
