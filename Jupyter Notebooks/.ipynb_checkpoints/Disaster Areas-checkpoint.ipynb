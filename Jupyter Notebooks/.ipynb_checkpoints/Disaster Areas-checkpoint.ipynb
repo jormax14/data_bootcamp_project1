{
 "cells": [
  {
   "cell_type": "code",
   "execution_count": null,
   "metadata": {},
   "outputs": [],
   "source": [
    "#----------------------------------------------\n",
    "#This Notebook looks at FEMA disaster data and where the disasters with the most impact on housing occur most frequently\n",
    "#----------------------------------------------\n",
    "\n",
    "import pandas as pd\n",
    "import numpy as np\n",
    "import os as os\n",
    "import csv\n",
    "import string\n",
    "import matplotlib.pyplot as plt"
   ]
  },
  {
   "cell_type": "code",
   "execution_count": null,
   "metadata": {},
   "outputs": [],
   "source": [
    "#Read and store the cleaned FEMA Disaster data\n",
    "Clean_FEMA_csv = \"Clean FEMA 1996-Present Disasters Top 6 Types.csv\"\n",
    "\n",
    "FEMA_df = pd.read_csv(Clean_FEMA_csv)\n",
    "FEMA_df[\"State\"].str.strip()"
   ]
  },
  {
   "cell_type": "code",
   "execution_count": null,
   "metadata": {},
   "outputs": [],
   "source": [
    "FEMA_df.groupby([\"Incident Type\"]).State.value_counts()"
   ]
  },
  {
   "cell_type": "markdown",
   "metadata": {},
   "source": [
    "-----------------\n",
    "SCATTER PLOT\n",
    "\n",
    "Begin attempt to create a scatter plot that has the years across the x-axis and the states on the y-axis to see if over the past years there have been trends of more desasters in certain states\n"
   ]
  },
  {
   "cell_type": "code",
   "execution_count": null,
   "metadata": {},
   "outputs": [],
   "source": [
    "#Groupby year, state, and disaster and calculate the count of counties involved. Save as a dataframe so that we have a list of disasters with year and state\n",
    "county_group_df = FEMA_df.groupby([\"Fiscal Year Declared\", \"State\", \"Title\"], as_index=False)[\"CountyName\"].count()"
   ]
  },
  {
   "cell_type": "code",
   "execution_count": null,
   "metadata": {},
   "outputs": [],
   "source": [
    "#Another groupby of the above to get the number of disasters by state each year.\n",
    "countbystate = county_group_df.groupby([\"State\", \"Fiscal Year Declared\"]).count()\n",
    "del countbystate[\"CountyName\"]\n",
    "#Print the top values for spot checking the scatter plot\n",
    "countbystate.sort_values(by=\"Title\",ascending=False).head(10)"
   ]
  },
  {
   "cell_type": "code",
   "execution_count": null,
   "metadata": {},
   "outputs": [],
   "source": [
    "#Create the scatter plot\n",
    "plt.figure(figsize=(10,25))\n",
    "plt.scatter(x=county_group_df[\"Fiscal Year Declared\"], y=county_group_df[\"State\"], marker=\"o\", s=(countbystate[\"Title\"]), alpha=0.5)"
   ]
  },
  {
   "cell_type": "code",
   "execution_count": null,
   "metadata": {},
   "outputs": [],
   "source": []
  }
 ],
 "metadata": {
  "kernelspec": {
   "display_name": "Python 3",
   "language": "python",
   "name": "python3"
  },
  "language_info": {
   "codemirror_mode": {
    "name": "ipython",
    "version": 3
   },
   "file_extension": ".py",
   "mimetype": "text/x-python",
   "name": "python",
   "nbconvert_exporter": "python",
   "pygments_lexer": "ipython3",
   "version": "3.7.0"
  }
 },
 "nbformat": 4,
 "nbformat_minor": 2
}
